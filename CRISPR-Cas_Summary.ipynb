{
 "cells": [
  {
   "cell_type": "markdown",
   "metadata": {},
   "source": [
    "# CRISPR-Cas systems: summary, applications, and limitations\n",
    "## Abstract\n",
    "Clustered regularly interspaced short palindromic repeats (CRISPR) and CRISPR associated (Cas) genes make up the CRISPR-Cas adaptive immune system found in many prokaryotes. This system uses Cas proteins and guide RNAs (gRNA) to identify and silence the invading nucleic acids of viruses and plasmids. Cas proteins and guide RNAs can be synthesized and complexed to target specific genes other than those found in bacteriophages and plasmids. This technology has wide reaching application in genetic engineering, therapeutics, and other biotechnological fields. This paper seeks to summarize the main structures, functions, and mechanisms of the CRISPR-Cas system as well as to provide applications and limitations of the technology.\n",
    "## Summary\n",
    "The CRISPR-Cas system consists of 2 main parts, the CRISPR array and the Cas genes, and operates in 3 main steps: adaptation, expression, and interference. The CRISPR array consists of sequences of foreign DNA from past infections, called spacers, separated by repeated, identical, palindromic sequences, called direct repeats. The spacers range from 20 base pairs (bp) to 72 bp while the direct repeats range from 21 bp to 47 bp<sup>4</sup>. The CRISPR array is preceded by an AT-rich leader sequence where novel spacers can be inserted into the prokaryotic chromosome during adaptation<sup>2,4</sup>. Preceding the CRISPR array and leader sequence is the set of Cas genes that encode the Cas proteins, of which there have been 13 discovered<sup>4</sup>. These proteins are the main structural and functional components of the system.\n",
    "### Classes and types of CRISPR systems\n",
    "There are 2 classes and 6 types of CCS, with various subtypes and variants, discovered so far<sup>4</sup>. Class 1 systems are comprised of multiple Cas proteins and a single CRISPR RNA (crRNA) and include types I, III, and IV. Class 2 systems are comprised of a single Cas protein, 1 crRNA, and a trans-activating CRISPR RNA (tracrRNA) in type II systems and includes types II, V, and VI.\n",
    "### Adaptation, expression, and interference\n",
    "Although there are differences in the mechanisms and proteins used even between subtype variants, all CCS follow a similar process of adaptation, expression, and interference: a Cas protein complex identifies and integrates a section of invading nucleic acid, called a protospacer, into the host’s genome where it becomes a spacer in the CRISPR array, the necessary Cas genes and RNA(s) are expressed and processed to form a complex, this complex then uses the spacer in the RNA to identify the invading DNA or RNA while nuclease domain(s) cut the genetic material, silencing its expression and/or replication. The process of adaptation, expression, and interference in type II CCS will be discussed in detail as it, and other class 2 systems, are the most relevant in biotechnological applications. Examples of other CCS are described and/or illustrated by Sweta Nidhi et al. (4).\n",
    "\n",
    "In type II systems 4 Cas1 proteins and 2 Cas2 proteins form a (Cas1<sub>2</sub> – Cas2)<sub>2</sub> complex. This complex takes a protospacer from invading DNA and integrates it into the CRISPR array at the leader sequence with a direct repeat on either side of the new spacer. To differentiate between self and non-self DNA a short nucleotide sequence adjacent to the protospacer, called a protospacer adjacent motif (PAM), is identified by a Cas9 protein<sup>2,4</sup>. The PAM sequence essentially acts as a double check to make sure that the DNA being cut during adaptation and interference is not that of the host, as the sequence is not present in the host’s genome<sup>4</sup>.\n",
    "\n",
    "During expression of type II systems, a Cas9 protein, appropriate crRNA, and tracrRNA are expressed and then processed to their mature form. These mature components form a complex where the crRNA sits within the Cas9 protein; the spacer is used to identify the target site, and the direct repeat base pairs with the tracrRNA, securing the crRNA to the protein.\n",
    "\n",
    "Finally, the CRISPR-Cas9 complex moves around the host, scanning for the foreign DNA encoded by the spacer. The Cas9 protein acts as a helicase unwinding double stranded target DNA allowing the crRNA to interact with it. Once the crRNA appropriately base pairs with the target site and a PAM sequence is recognized by the Cas9 protein, there is a conformational change resulting in the HNH and RuvC endonuclease domains cleaving the phosphodiester bonds on both DNA strands 3 nucleotides upstream of the PAM sequence<sup>1,4</sup>.\n",
    "## Application\n",
    "\n",
    "\n",
    "\n",
    "\n",
    "\n",
    "1. A Programmable Dual-RNA–Guided DNA Endonuclease in Adaptive Bacterial Immunity\n",
    "2. CRISPR–Cas adaptation: insights into the mechanism of action\n",
    "3. Exploiting CRISPR-Cas nucleases to produce sequence specific antimicrobials\n",
    "4. Novel CRISPR–Cas Systems: An Updated Review of the Current Achievements, Applications, and Future Research Perspectives"
   ]
  }
 ],
 "metadata": {
  "kernelspec": {
   "display_name": "Python 3",
   "language": "python",
   "name": "python3"
  },
  "language_info": {
   "codemirror_mode": {
    "name": "ipython",
    "version": 3
   },
   "file_extension": ".py",
   "mimetype": "text/x-python",
   "name": "python",
   "nbconvert_exporter": "python",
   "pygments_lexer": "ipython3",
   "version": "3.8.5"
  }
 },
 "nbformat": 4,
 "nbformat_minor": 4
}
