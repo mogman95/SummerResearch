{
 "cells": [
  {
   "attachments": {},
   "cell_type": "markdown",
   "metadata": {},
   "source": [
    "# CRISPR-Cas systems: summary, applications, and limitations\n",
    "### Abstract\n",
    "Clustered regularly interspaced short palindromic repeats (CRISPR) and CRISPR associated (Cas) genes make up the CRISPR-Cas adaptive immune system found in many prokaryotes. This system uses Cas proteins and guide RNAs (gRNA) to identify and silence the invading nucleic acids of viruses and plasmids. Cas proteins and guide RNAs can be synthesized and complexed to target specific genes other than those found in bacteriophages and plasmids. This technology has wide reaching application in genetic engineering, therapeutics, and other biotechnological fields. This paper seeks to summarize the main structures, functions, and mechanisms of the CRISPR-Cas system as well as to provide applications and limitations of the technology.\n",
    "### Summary\n",
    "\n",
    "\n",
    "\n",
    "\n",
    "1. A Programmable Dual-RNA–Guided DNA Endonuclease in Adaptive Bacterial Immunity\n",
    "2. CRISPR–Cas adaptation: insights into the mechanism of action\n",
    "3. Exploiting CRISPR-Cas nucleases to produce sequence specific antimicrobials\n",
    "4. Novel CRISPR–Cas Systems: An Updated Review of the Current Achievements, Applications, and Future Research Perspectives"
   ]
  }
 ],
 "metadata": {
  "kernelspec": {
   "display_name": "Python 3",
   "language": "python",
   "name": "python3"
  },
  "language_info": {
   "codemirror_mode": {
    "name": "ipython",
    "version": 3
   },
   "file_extension": ".py",
   "mimetype": "text/x-python",
   "name": "python",
   "nbconvert_exporter": "python",
   "pygments_lexer": "ipython3",
   "version": "3.8.5"
  }
 },
 "nbformat": 4,
 "nbformat_minor": 4
}
