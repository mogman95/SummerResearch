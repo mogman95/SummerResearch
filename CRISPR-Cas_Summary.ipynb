{
 "cells": [
  {
   "cell_type": "markdown",
   "metadata": {},
   "source": [
    "# CRISPR-Cas systems: summary, applications, and limitations\n",
    "## Abstract\n",
    "Clustered regularly interspaced short palindromic repeats (CRISPR) and CRISPR associated (Cas) genes make up the CRISPR-Cas adaptive immune system found in many prokaryotes. This system uses Cas proteins and guide RNAs (gRNA) to identify and silence the invading nucleic acids of viruses and plasmids. Cas proteins and guide RNAs can be synthesized and complexed to target specific genes other than those found in bacteriophages and plasmids. This technology has wide reaching application in genetic engineering, therapeutics, and other biotechnological fields. This paper seeks to summarize the main structures, functions, and mechanisms of the CRISPR-Cas system as well as to provide applications and limitations of the technology.\n",
    "## Summary\n",
    "The CRISPR-Cas system consists of 2 main parts, the CRISPR array and the Cas genes, and operates in 3 main steps: adaptation, expression, and interference. The CRISPR array consists of sequences of foreign DNA from past infections, called spacers, separated by repeated, identical, palindromic sequences, called direct repeats. The spacers range from 20 base pairs (bp) to 72 bp while the direct repeats range from 21 bp to 47 bp4. The CRISPR array is preceded by an AT-rich leader sequence where novel spacers can be inserted into the prokaryotic chromosome during adaptation2,4. Preceding the CRISPR array and leader sequence is the set of Cas genes that encode the Cas proteins, of which there have been 13 discovered4. These proteins are the main structural and functional components of the system.\n",
    "### Classes and types of CRISPR systems\n",
    "There are 2 classes and 6 types of CCS, with various subtypes and variants, discovered so far4. Class 1 systems are comprised of multiple Cas proteins and a single CRISPR RNA (crRNA) and include types I, III, and IV. Class 2 systems are comprised of a single Cas protein, 1 crRNA, and a trans-activating CRISPR RNA (tracrRNA) in type II systems and includes types II, V, and VI.\n",
    "### Adaptation, expression, and interference\n",
    "Although there are differences in the mechanisms and proteins used even between subtype variants, all CCS follow a similar process of adaptation, expression, and interference: a Cas protein complex identifies and integrates a section of invading nucleic acid, called a protospacer, into the host’s genome where it becomes a spacer in the CRISPR array, the necessary Cas genes and RNA(s) are expressed and processed to form a complex, this complex then uses the spacer in the RNA to identify the invading DNA or RNA while nuclease domain(s) cut the genetic material, silencing its expression and/or replication. The process of adaptation, expression, and interference in type II CCS will be discussed in detail as it, and other class 2 systems, are the most relevant in biotechnological applications.\n",
    "#### Adaptation\n",
    "\n",
    "\n",
    "\n",
    "\n",
    "\n",
    "1. A Programmable Dual-RNA–Guided DNA Endonuclease in Adaptive Bacterial Immunity\n",
    "2. CRISPR–Cas adaptation: insights into the mechanism of action\n",
    "3. Exploiting CRISPR-Cas nucleases to produce sequence specific antimicrobials\n",
    "4. Novel CRISPR–Cas Systems: An Updated Review of the Current Achievements, Applications, and Future Research Perspectives"
   ]
  }
 ],
 "metadata": {
  "kernelspec": {
   "display_name": "Python 3",
   "language": "python",
   "name": "python3"
  },
  "language_info": {
   "codemirror_mode": {
    "name": "ipython",
    "version": 3
   },
   "file_extension": ".py",
   "mimetype": "text/x-python",
   "name": "python",
   "nbconvert_exporter": "python",
   "pygments_lexer": "ipython3",
   "version": "3.8.5"
  }
 },
 "nbformat": 4,
 "nbformat_minor": 4
}
