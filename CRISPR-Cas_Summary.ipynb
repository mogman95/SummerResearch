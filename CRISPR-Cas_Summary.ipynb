{
 "cells": [
  {
   "cell_type": "markdown",
   "metadata": {},
   "source": [
    "# CRISPR-Cas systems: summary, applications, and limitations\n",
    "## Abstract\n",
    "Clustered regularly interspaced short palindromic repeats (CRISPR) and CRISPR associated (Cas) genes make up the CRISPR-Cas adaptive immune system found in many prokaryotes. This system uses Cas proteins and guide RNAs (gRNA) to identify and silence the invading nucleic acids of viruses and plasmids. Cas proteins and guide RNAs can be synthesized and complexed to target specific genes other than those found in bacteriophages and plasmids. This technology has wide reaching application in genetic engineering, therapeutics, and other biotechnological fields. This paper seeks to summarize the main structures, functions, and mechanisms of the CRISPR-Cas system as well as to provide applications and limitations of the technology.\n",
    "## Summary\n",
    "The CRISPR-Cas system consists of 2 main parts, the CRISPR array and the Cas genes, and operates in 3 main steps: adaptation, expression, and interference. The CRISPR array consists of sequences of foreign DNA from past infections, called spacers, separated by repeated, identical, palindromic sequences, called direct repeats. The spacers range from 20 base pairs (bp) to 72 bp while the direct repeats range from 21 bp to 47 bp<sup>4</sup>. The CRISPR array is preceded by an AT-rich leader sequence where novel spacers can be inserted into the prokaryotic chromosome during adaptation<sup>2,4</sup>. Preceding the CRISPR array and leader sequence is the set of Cas genes that encode the Cas proteins, of which there have been 13 discovered<sup>4</sup>. These proteins are the main structural and functional components of the system.\n",
    "#### Classes and types of CRISPR systems\n",
    "There are 2 classes and 6 types of CCS, with various subtypes and variants, discovered so far<sup>4</sup>. Class 1 systems are comprised of multiple Cas proteins and a single CRISPR RNA (crRNA) and include types I, III, and IV. Class 2 systems are comprised of a single Cas protein, 1 crRNA, and a trans-activating CRISPR RNA (tracrRNA) in type II systems and includes types II, V, and VI.\n",
    "#### Adaptation, expression, and interference\n",
    "Although there are differences in the mechanisms and proteins used even between subtype variants, all CCS follow a similar process of adaptation, expression, and interference: a Cas protein complex identifies and integrates a section of invading nucleic acid, called a protospacer, into the host’s genome where it becomes a spacer in the CRISPR array, the necessary Cas genes and RNA(s) are expressed and processed to form a complex, this complex then uses the spacer in the RNA to identify the invading DNA or RNA while nuclease domain(s) cut the genetic material, silencing its expression and/or replication. The process of adaptation, expression, and interference in type II CCS will be discussed in detail as it, and other class 2 systems, are the most relevant in biotechnological applications. Examples of other CCS are described and/or illustrated by Sweta Nidhi et al. (4).\n",
    "\n",
    "In type II systems 4 Cas1 proteins and 2 Cas2 proteins form a (Cas1<sub>2</sub> – Cas2)<sub>2</sub> complex. This complex takes a protospacer from invading DNA and integrates it into the CRISPR array at the leader sequence with a direct repeat on either side of the new spacer. To differentiate between self and non-self DNA a short nucleotide sequence adjacent to the protospacer, called a protospacer adjacent motif (PAM), is identified by a Cas9 protein<sup>2,4</sup>. The PAM sequence essentially acts as a double check to make sure that the DNA being cut during adaptation and interference is not that of the host, as the sequence is not present in the host’s genome<sup>4</sup>.\n",
    "\n",
    "During expression of type II systems, a Cas9 protein, appropriate crRNA, and tracrRNA are expressed and then processed to their mature form. These mature components form a complex where the crRNA sits within the Cas9 protein; the spacer is used to identify the target site, and the direct repeat base pairs with the tracrRNA, securing the crRNA to the protein.\n",
    "\n",
    "Finally, the CRISPR-Cas9 complex moves around the host, scanning for the foreign DNA encoded by the spacer. The Cas9 protein acts as a helicase unwinding double stranded target DNA allowing the crRNA to interact with it. Once the crRNA appropriately base pairs with the target site and a PAM sequence is recognized by the Cas9 protein, there is a conformational change resulting in the HNH and RuvC endonuclease domains cleaving the phosphodiester bonds on both DNA strands 3 nucleotides upstream of the PAM sequence<sup>1,4</sup>.\n",
    "## Application\n",
    "In 2012, Jennifer Doudna and Emmanuelle Charpentier et al. (1) published a paper demonstrating that CRISPR-Cas systems can be used to edit DNA other than that of bacteriophages or plasmids. In the paper, the researchers connected the 3’ end of the crRNA and the 5’ end of the tracrRNA to create a single guide RNA (gRNA). By using different Cas enzyme variants to identify different PAM sequences and creating a synthetic gRNA, which can be done relatively easily, CRISPR-Cas complexes can be engineered to target genes in practically any organism. In eukaryotic organisms’ end joining repair mechanisms can be utilized to knock-out or knock-in genes of interest. In addition, researchers can take advantage of the ability for CRISPR-Cas complexes to bind to certain genomic targets for up or down-regulation of gene expression. These make for a robust, precise, versatile, relatively cheap and easy to use tool for gene editing and regulation.\n",
    "\n",
    "In eukaryotic organisms if a double strand break (DSB) occurs in the hosts DNA it can be repaired by non-homologous end joining (NHEJ) or homology-directed repair (HDR)<sup>4</sup>. A CRISPR complex can make a DSB in a gene that needs to be disabled. The cell then uses NHEJ to repair the DSB. However, this process is error prone and often introduces frameshift mutations that silences the gene<sup>4</sup>. If a gene of interest would like to be inserted into the genome one or more DSB can be made while a relatively high concentration of plasmids or linear oglionucleotides with the gene of interest can be inserted into the cell. The cell then uses HDR to repair the new gene into the genome. In organisms without the ability to repair DSB effectively CRISPR induced DSB can selectively kill such target organisms<sup>3</sup>. In addition, certain methods exist to create precise point mutations without making DSB<sup>4</sup>. This can be used to correct mutations in genetic diseases, change start codons to silence genes, and precisely edit proteins in protein and biochemical engineering.\n",
    "\n",
    "All these methods, and more, have been, will be, and are being used in many different fields. In therapeutics CRISPR can be used in the treatment of cystic fibrosis, sickle cell disease, HIV, various cancers, and many other diseases<sup>4</sup>. CRISPR technologies have been developed for disease testing such as for COVID-19, and CRISPR based anti-microbials have been developed as a species specific antibiotic<sup>3,4</sup>. In agriculture it has been used to genetically engineer crops to be pest resistance, produce bigger more nutritious fruits and vegetables, be resistant to stressors such as drought and frost, and be herbicide resistance, among other modifications<sup>4</sup>. Livestock has been modified to mature more quickly and/or produce more meat. In addition, many microorganisms have been modified for use in biochemical engineering, microbiology, further genome editing, and other biotechnological applications4.\n",
    "## Limitations\n",
    "The main technical limitation of CRISPR-Cas technologies is off-target activities. Endonuclease activity occurs even at sites that do not completely match the gRNA spacer sequence<sup>1</sup>. If a certain sequence is targeted and a very similar sequence exists somewhere else that can be accessed by the CRISPR-Cas complex off-target activity at this similar sequence is likely to occur and could cause unwanted, potentially detrimental, mutations, insertions, and/or deletions<sup>4</sup>. This is especially important in germline editing: an unintentional mutation in germline editing, if gone undetected, can spread through a population. This could result in unforeseen environmental effects if a genetically modified organism is introduced into wild populations and ecosystems. Problems arise when editing somatic cells as well. It can be particularly counterproductive when CCS are used in therapeutics as off-target activity could kill healthy cells, introduce detrimental mutations in healthy genes, or even increase the risk of cancer<sup>4</sup>. In addition, the delivery mechanism for the complex, or the genetic material encoding the Cas protein and gRNA, and potential immune responses must be considered. The most controversial use of CCS is in human germline editing. This application evokes a slew of ethical questions on the morality of permanently altering the genome of humans. Even if the aforementioned risks of off-target activity and general safety could be brought to acceptable levels, is it ethical to permanently genetically modify a human if they, and by extent, their children and their children’s children, etc., cannot consent to such modification, even if their life experience is being improved? In addition, although the genes for height, strength, eye color, risk of a certain disease, etc. are not well understood, when such genes are well understood it is possible that in a society where ones access to healthcare is largely influenced by ones wealth CRISPR technologies could mainly help the rich resulting in a class of the rich and healthy and the poor and sick<sup>4</sup>. There is further concern about the use of CRISPR-Cas in the development of bioweapons<sup>4</sup>. Seeing as CRISPR-Cas is relatively cheap, easy to use, and accessible, it is of concern to humanity that one could use CRISPR-Cas technologies to engineer a bacteria, virus, or toxin that could be used in warfare or acts of terrorism.\n",
    "\n",
    "\n",
    "\n",
    "1. A Programmable Dual-RNA–Guided DNA Endonuclease in Adaptive Bacterial Immunity\n",
    "2. CRISPR–Cas adaptation: insights into the mechanism of action\n",
    "3. Exploiting CRISPR-Cas nucleases to produce sequence specific antimicrobials\n",
    "4. Novel CRISPR–Cas Systems: An Updated Review of the Current Achievements, Applications, and Future Research Perspectives"
   ]
  }
 ],
 "metadata": {
  "kernelspec": {
   "display_name": "Python 3",
   "language": "python",
   "name": "python3"
  },
  "language_info": {
   "codemirror_mode": {
    "name": "ipython",
    "version": 3
   },
   "file_extension": ".py",
   "mimetype": "text/x-python",
   "name": "python",
   "nbconvert_exporter": "python",
   "pygments_lexer": "ipython3",
   "version": "3.8.5"
  }
 },
 "nbformat": 4,
 "nbformat_minor": 4
}
