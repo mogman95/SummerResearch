{
 "cells": [
  {
   "cell_type": "code",
   "execution_count": 31,
   "metadata": {},
   "outputs": [],
   "source": [
    "\"\"\"Import Necessary Libraries\"\"\"\n",
    "from Bio import SeqIO\n",
    "from Bio.Seq import Seq\n",
    "from Bio.SeqUtils import GC"
   ]
  },
  {
   "cell_type": "code",
   "execution_count": 32,
   "metadata": {},
   "outputs": [],
   "source": [
    "\"\"\"Define Functions\"\"\"\n",
    "'''Complement Function:'''\n",
    "### Takes a DNA sequences as a string and returns its complementary strand sequence\n",
    "def comp(seq):\n",
    "    ### Initialize base pair dictionary and 'comp' string\n",
    "    bp = {'A': 'T',\n",
    "           'T': 'A',\n",
    "           'C': 'G',\n",
    "           'G': 'C'}\n",
    "    comp = ''\n",
    "    ### Sequence creation\n",
    "    for b in seq:     # For each base in the sequence...\n",
    "        comp += bp[b] # use the dictionary to add the next complementary base in the sequence...\n",
    "    return comp       # output the new complementary sequence\n",
    "\n",
    "'''Reverse Function'''\n",
    "### Takes any string and returns its reverse string\n",
    "def rev(seq):\n",
    "    ### Initialize 'rev' string\n",
    "    rev = ''\n",
    "    ### Reversing mechanism\n",
    "    for i in range(len(seq)): # For each index in the length of the given string...\n",
    "        rev += seq[-i-1]      # index the given string from the last charater to the first,\n",
    "                              # adding each character to the new string\n",
    "    return rev                # output the now reversed string"
   ]
  },
  {
   "cell_type": "code",
   "execution_count": 33,
   "metadata": {},
   "outputs": [],
   "source": [
    "\"\"\"Define file inputs\"\"\"\n",
    "### Commenting out allows rapid analysis of different files\n",
    "file = \"SARS-CoV-2.fasta\"\n",
    "# file = \"baccoa.fna\""
   ]
  },
  {
   "cell_type": "code",
   "execution_count": 34,
   "metadata": {},
   "outputs": [],
   "source": [
    "\"\"\"Parse File\"\"\"\n",
    "ref_seq = \"\" # This is in case there are multiple chromosomes/scaffolds/contigs in the FASTA file\n",
    "### File parsing\n",
    "records = SeqIO.parse(file, \"fasta\")    # Create iterator for FASTA file\n",
    "for record in records:                  # For each chromosome/scaffold/contig in the FASTA file...\n",
    "    seq = record.seq                    # Initializes a sequence\n",
    "    seq = seq.__str__().replace(\"N\",\"\") # Converts sequence into a string & removes any N's from genome\n",
    "    seq = seq.upper()                   # Makes sure sequence is uppercase so each charater is counted correctly\n",
    "    ref_seq += seq                      # Stitches seperate sequences together into one"
   ]
  },
  {
   "cell_type": "code",
   "execution_count": 35,
   "metadata": {},
   "outputs": [],
   "source": [
    "\"\"\" Output results to a TXT file \"\"\"\n",
    "\n",
    "\"\"\"Initialize variables \"\"\"\n",
    "output_file = \"seq-info.txt\"\n",
    "\n",
    "\"\"\" Write to output TXT file \"\"\"\n",
    "with open(output_file,'w+') as f:\n",
    "    f.write(\"Sequence:\\n\"+ref_seq)\n",
    "    f.write(\"\\n\\nComplement:\\n\"+comp(ref_seq))\n",
    "    f.write(\"\\n\\nReverse Complement:\\n\"+rev(comp(ref_seq)))"
   ]
  }
 ],
 "metadata": {
  "kernelspec": {
   "display_name": "Python 3",
   "language": "python",
   "name": "python3"
  },
  "language_info": {
   "codemirror_mode": {
    "name": "ipython",
    "version": 3
   },
   "file_extension": ".py",
   "mimetype": "text/x-python",
   "name": "python",
   "nbconvert_exporter": "python",
   "pygments_lexer": "ipython3",
   "version": "3.8.5"
  }
 },
 "nbformat": 4,
 "nbformat_minor": 4
}
