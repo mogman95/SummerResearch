{
 "cells": [
  {
   "cell_type": "code",
   "execution_count": 35,
   "metadata": {},
   "outputs": [],
   "source": [
    "from Bio import SeqIO\n",
    "from Bio.Seq import Seq\n",
    "from Bio.SeqUtils import GC\n",
    "import time"
   ]
  },
  {
   "cell_type": "code",
   "execution_count": 36,
   "metadata": {},
   "outputs": [],
   "source": [
    "\"\"\" Define functions in this block \"\"\"\n",
    "#This function is a sliding window counting function for any nucleotide substring.\n",
    "#Inputs: nucleotide query (str), nucleotide reference (str)\n",
    "#Outputs: number of occurrences of query in reference in seq (int)\n",
    "def nuc_count(nuc, seq):\n",
    "    \"\"\" Initialize variables \"\"\"\n",
    "    nuc_locs = []\n",
    "    my_bool = True\n",
    "    start = 0\n",
    "    stop = len(seq)\n",
    "\n",
    "    \"\"\" Perform count \"\"\"\n",
    "    while my_bool:\n",
    "        a = seq.find(nuc, start, stop)\n",
    "        if a != -1: ###If search finds a value\n",
    "            nuc_locs.append(a) ###Append location of match to list\n",
    "            start = a+1 ###Iterate starting location for search\n",
    "        else:\n",
    "            my_bool = False ###Break from the loop\n",
    "    return len(nuc_locs)\n",
    "\n",
    "#This function counts the frequencies of all 4 nucleotides in a sequence.\n",
    "#Inputs: nucleotide reference (str)\n",
    "#Outputs: frequency of each nucleotide (dict)\n",
    "def nuc_freq(seq):\n",
    "    \"\"\" Initialize variables \"\"\"\n",
    "    l = len(seq) ###Get total number of nt\n",
    "    nuc_f_dict = {} ###Initialize dict\n",
    "\n",
    "    \"\"\" Perform count \"\"\"\n",
    "    for char in \"ATCG\":\n",
    "        nuc_f_dict[char] = seq.count(char)/l\n",
    "    return nuc_f_dict\n",
    "\n",
    "#This function counts the frequencies of all 16 dinucleotides in a sequence.\n",
    "#Inputs: nucleotide reference (str)\n",
    "#Outputs: frequency of each dinucleotide (dict)\n",
    "def dinuc_freq(seq):\n",
    "    \"\"\" Initialize variables \"\"\"\n",
    "    l = len(seq) ###Get total number of nt\n",
    "    dinuc_f_dict = {} ###Initialize dict\n",
    "    \"\"\" Perform count \"\"\"\n",
    "    for char1 in \"ATCG\":\n",
    "        for char2 in \"ATCG\":\n",
    "            dinuc = char1 + char2\n",
    "            dinuc_f_dict[dinuc] = nuc_count(dinuc,seq)/(l-1)\n",
    "    return dinuc_f_dict"
   ]
  },
  {
   "cell_type": "code",
   "execution_count": 37,
   "metadata": {
    "tags": []
   },
   "outputs": [],
   "source": [
    "\"\"\" Define inputs in this block \"\"\"\n",
    "\n",
    "# file = \"T-thermophilusHB8chromosome1.fasta\"\n",
    "file = \"baccoa.fna\""
   ]
  },
  {
   "cell_type": "code",
   "execution_count": 38,
   "metadata": {
    "tags": []
   },
   "outputs": [],
   "source": [
    "\"\"\" Gather nuc and dinuc frequencies \"\"\"\n",
    "\n",
    "\"\"\" Intialize variables \"\"\"\n",
    "tic = time.perf_counter() ###Start timer!\n",
    "ref_seq = \"\" ###This is in case there are multiple chromosomes/scaffolds/contigs in the FASTA file\n",
    "\n",
    "records = SeqIO.parse(file, \"fasta\") ###Create iterator for FASTA file\n",
    "for record in records:\n",
    "    # seq = record.seq\n",
    "    seq = record.seq.__str__().replace(\"N\",\"\") ###Removes any N's from genome\n",
    "    seq = seq.upper() ###Makes sure sequence is uppercase so the counts aren't messed up\n",
    "    ref_seq += seq\n",
    "\n",
    "gc_content = (nuc_count(\"G\",ref_seq) + nuc_count(\"C\",ref_seq))/len(ref_seq) ###Get GC content\n",
    "nuc_dict = nuc_freq(ref_seq) ###Get nucleotide freqs\n",
    "dinuc_dict = dinuc_freq(ref_seq) ###Get dinucleotide freqs\n",
    "toc = time.perf_counter() ###Stop timer!"
   ]
  },
  {
   "cell_type": "code",
   "execution_count": 39,
   "metadata": {},
   "outputs": [],
   "source": [
    "\"\"\" Output results to a TXT file \"\"\"\n",
    "\n",
    "\"\"\"Initialize variables \"\"\"\n",
    "output_file = \"test.txt\"\n",
    "\n",
    "\"\"\" Write to output TXT file \"\"\"\n",
    "with open(output_file,'w+') as f:\n",
    "    f.write(\"GC CONTENT:\\n\" + str(gc_content) + \"\\n\")\n",
    "    f.write(\"\\nNUCLEOTIDE FREQUENCIES:\\n\")\n",
    "    for nuc in nuc_dict: ###Print nucleotide freqs\n",
    "        f.write(nuc + \": \" + str(nuc_dict[nuc]) + \"\\n\")\n",
    "    f.write(\"\\nDINUCLEOTIDE FREQUENCIES:\\n\")\n",
    "    for dinuc in dinuc_dict: ###Print dinucleotide frequencies\n",
    "        f.write(dinuc + \": \" + str(dinuc_dict[dinuc]) + \"\\n\")\n",
    "    f.write(\"\\nCode executed in %0.4f seconds\" % (toc-tic))"
   ]
  },
  {
   "cell_type": "code",
   "execution_count": null,
   "metadata": {},
   "outputs": [],
   "source": []
  }
 ],
 "metadata": {
  "interpreter": {
   "hash": "8b380722fd2cc8048bf4f72fe26649ffc2fc4347b88d0b1d2a708dd5639d43c1"
  },
  "kernelspec": {
   "display_name": "Python 3",
   "language": "python",
   "name": "python3"
  },
  "language_info": {
   "codemirror_mode": {
    "name": "ipython",
    "version": 3
   },
   "file_extension": ".py",
   "mimetype": "text/x-python",
   "name": "python",
   "nbconvert_exporter": "python",
   "pygments_lexer": "ipython3",
   "version": "3.8.5"
  }
 },
 "nbformat": 4,
 "nbformat_minor": 2
}
